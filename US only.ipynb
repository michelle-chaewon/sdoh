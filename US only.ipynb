{
 "cells": [
  {
   "cell_type": "code",
   "execution_count": 3,
   "id": "bbb3fdec",
   "metadata": {},
   "outputs": [],
   "source": [
    "import pandas as pd\n",
    "#https://github.com/dr5hn/countries-states-cities-database/blob/master/countries%2Bstates%2Bcities.json"
   ]
  },
  {
   "cell_type": "code",
   "execution_count": 436,
   "id": "7ca9a417",
   "metadata": {},
   "outputs": [],
   "source": [
    "df = pd.read_csv('no_gdpr.csv')"
   ]
  },
  {
   "cell_type": "code",
   "execution_count": 687,
   "id": "8b740815",
   "metadata": {},
   "outputs": [],
   "source": [
    "#filter US only \n",
    "#name of state (e.g., Arkansas, Florida)\n",
    "##city name + state name (with comma & with/without comma)\n",
    "\n",
    "df_address = df[~(df.address_concat.isnull())]\n",
    "df_no_address = df[(df.address_concat.isnull())]"
   ]
  },
  {
   "cell_type": "code",
   "execution_count": 729,
   "id": "ca231697",
   "metadata": {},
   "outputs": [],
   "source": [
    "df_address_us_only = df_address[df_address.address_concat.str.contains(', USA')]"
   ]
  },
  {
   "cell_type": "code",
   "execution_count": null,
   "id": "67283e6e",
   "metadata": {},
   "outputs": [],
   "source": [
    "df_no_address.fillna(' ', inplace=True)"
   ]
  },
  {
   "cell_type": "code",
   "execution_count": 695,
   "id": "590ed536",
   "metadata": {},
   "outputs": [],
   "source": [
    "df_no_address_no_space = df_no_address[~(df_no_address.location.str.isspace())]"
   ]
  },
  {
   "cell_type": "code",
   "execution_count": 1,
   "id": "950195ed",
   "metadata": {},
   "outputs": [],
   "source": [
    "df_no_address_no_space.location = df_no_address_no_space.location.str.strip()\n",
    "df_no_address_no_space.location = df_no_address_no_space.location.str.lower()"
   ]
  },
  {
   "cell_type": "code",
   "execution_count": 4,
   "id": "23072f06",
   "metadata": {},
   "outputs": [],
   "source": [
    "df_us_cities_states = pd.read_csv(r'C:\\Users\\chaewon7\\Downloads\\USA-cities-and-states-master\\USA-cities-and-states-master\\us_cities_states_counties.csv', encoding='utf8', engine='python', delimiter=\"|\")"
   ]
  },
  {
   "cell_type": "code",
   "execution_count": 16,
   "id": "d33f521a",
   "metadata": {},
   "outputs": [],
   "source": [
    "df_us_cities_states[['City', 'State full']] = df_us_cities_states[['City', 'State full']].astype(str).apply(lambda col: col.str.lower())\n",
    "df_us_cities_states[['City', 'State full']] = df_us_cities_states[['City', 'State full']].astype(str).apply(lambda col: col.str.strip())"
   ]
  },
  {
   "cell_type": "code",
   "execution_count": 7,
   "id": "14b41445",
   "metadata": {
    "scrolled": true
   },
   "outputs": [],
   "source": [
    "state_list = list(set(df_us_cities_states['State full'].to_list()))"
   ]
  },
  {
   "cell_type": "code",
   "execution_count": 9,
   "id": "2b44f983",
   "metadata": {},
   "outputs": [],
   "source": [
    "city_state_combined_full_comma = list(set(df_us_cities_states.City + \", \" + df_us_cities_states['State full']))\n",
    "city_state_combined_full_no_comma = list(set(df_us_cities_states.City + \" \" + df_us_cities_states['State full']))"
   ]
  },
  {
   "cell_type": "code",
   "execution_count": 10,
   "id": "f2f5123f",
   "metadata": {},
   "outputs": [],
   "source": [
    "city_state_combined = city_state_combined_full_comma + city_state_combined_full_no_comma"
   ]
  },
  {
   "cell_type": "code",
   "execution_count": 819,
   "id": "afb15cb2",
   "metadata": {},
   "outputs": [],
   "source": [
    "df_sdoh_city_state = df_no_address_no_space[df_no_address_no_space.location.str.contains('|'.join(city_state_combined))]"
   ]
  },
  {
   "cell_type": "code",
   "execution_count": 14,
   "id": "1b262d20",
   "metadata": {},
   "outputs": [],
   "source": [
    "df_sdoh_state_full = df_no_address_no_space[df_no_address_no_space['location'].isin(state_full_list)]"
   ]
  },
  {
   "cell_type": "code",
   "execution_count": 27,
   "id": "69e33466",
   "metadata": {},
   "outputs": [],
   "source": [
    "df_sdoh_combined = pd.concat([df_sdoh_city_state, df_sdoh_state_full])"
   ]
  },
  {
   "cell_type": "code",
   "execution_count": 842,
   "id": "61708685",
   "metadata": {},
   "outputs": [],
   "source": [
    "df_sdoh_combined.drop_duplicates(['tweet_id'], inplace=True)"
   ]
  },
  {
   "cell_type": "code",
   "execution_count": 845,
   "id": "c3988217",
   "metadata": {},
   "outputs": [],
   "source": [
    "df_sdoh_combined_final = pd.concat([df_sdoh_combined, df_address_us_only])"
   ]
  },
  {
   "cell_type": "code",
   "execution_count": 849,
   "id": "398065a7",
   "metadata": {},
   "outputs": [],
   "source": [
    "df_sdoh_combined_final.drop_duplicates(['tweet_id'], inplace=True)"
   ]
  },
  {
   "cell_type": "code",
   "execution_count": 33,
   "id": "399d9584",
   "metadata": {},
   "outputs": [],
   "source": [
    "df_sdoh_combined_final_filtered = df_sdoh_combined_final[~(df_sdoh_combined_final.location.str.contains('canada'))]"
   ]
  },
  {
   "cell_type": "code",
   "execution_count": 39,
   "id": "7d7583be",
   "metadata": {},
   "outputs": [],
   "source": [
    "df_sdoh_combined_final_filtered.to_csv('us_only.csv', index=False)"
   ]
  },
  {
   "cell_type": "code",
   "execution_count": null,
   "id": "89434ed7",
   "metadata": {},
   "outputs": [],
   "source": []
  }
 ],
 "metadata": {
  "kernelspec": {
   "display_name": "Python 3 (ipykernel)",
   "language": "python",
   "name": "python3"
  },
  "language_info": {
   "codemirror_mode": {
    "name": "ipython",
    "version": 3
   },
   "file_extension": ".py",
   "mimetype": "text/x-python",
   "name": "python",
   "nbconvert_exporter": "python",
   "pygments_lexer": "ipython3",
   "version": "3.9.12"
  }
 },
 "nbformat": 4,
 "nbformat_minor": 5
}
