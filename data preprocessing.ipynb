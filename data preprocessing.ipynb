{
 "cells": [
  {
   "cell_type": "code",
   "execution_count": 2,
   "id": "c428d2a3",
   "metadata": {},
   "outputs": [],
   "source": [
    "import pandas as pd\n",
    "import string\n",
    "import csv"
   ]
  },
  {
   "cell_type": "code",
   "execution_count": null,
   "id": "3852f3e2",
   "metadata": {},
   "outputs": [],
   "source": [
    "df_full = pd.read_csv('no_gdpr.csv')"
   ]
  },
  {
   "cell_type": "code",
   "execution_count": null,
   "id": "bfbec3d8",
   "metadata": {},
   "outputs": [],
   "source": [
    "def text_preprocess(data):\n",
    "    #remove links\n",
    "    data['text_processed'] = data['text'].replace(r'http\\S+', '', regex=True).replace('www\\S+', '', regex=True)\n",
    "    #remove Twitter mentions\n",
    "    data['text_processed'] = data['text_processed'].str.replace(r'\\s*@\\w+', '', regex=True)\n",
    "    #remove punctuations\n",
    "    data['text_processed'] = data['text_processed'].str.replace('[{}]'.format(string.punctuation), '')\n",
    "    #remove RT \n",
    "    data['text_processed'] = data['text_processed'].str.replace(\"RT \", '')\n",
    "    #remove double quotes\n",
    "    data['text_processed'] = data['text_processed'].str.replace('“|”', '')\n",
    "    #lowercase\n",
    "    data['text_processed'] = data['text_processed'].str.lower().str.strip()\n",
    "    #replace new line with space\n",
    "    data['text_processed'] = data['text_processed'].str.replace(\"\\n\", ' ')\n",
    "    #other stuff\n",
    "    data['text_processed'] = data['text_processed'].str.replace(\"rt : \", '')\n",
    "    \n",
    "    data['text_processed'] = data['text_processed'].str.replace(\"rt _com: \", '')\n",
    "    \n",
    "    data['text_processed'] = data['text_processed'].str.replace(\" via\", \"\")\n",
    "    \n",
    "    data['text_processed'] = data['text_processed'].str.replace(\"read more:\", \"\")\n",
    "    \n",
    "    data['text_processed'] = data['text_processed'].str.replace(\"learn more :\", \"\")\n",
    "    \n",
    "    #replace multiple spaces with single space\n",
    "    data['text_processed'] = data['text_processed'].str.replace(' +', ' ')\n",
    "    \n",
    "    #strip spaces\n",
    "    data['text_processed'] = data['text_processed'].str.strip()    \n",
    "    \n",
    "    return data"
   ]
  },
  {
   "cell_type": "code",
   "execution_count": null,
   "id": "a6ce3d1a",
   "metadata": {},
   "outputs": [],
   "source": [
    "df_full = text_preprocess(df_full)"
   ]
  },
  {
   "cell_type": "code",
   "execution_count": null,
   "id": "1f63e604",
   "metadata": {},
   "outputs": [],
   "source": [
    "df_full.text_processed = df_full.text_processed.fillna('')"
   ]
  },
  {
   "cell_type": "code",
   "execution_count": null,
   "id": "f02714cf",
   "metadata": {},
   "outputs": [],
   "source": [
    "df_full_no_null = df_full[~(df_full.text_processed.isnull())]"
   ]
  },
  {
   "cell_type": "code",
   "execution_count": null,
   "id": "e2eae287",
   "metadata": {},
   "outputs": [],
   "source": [
    "df_full_no_null.to_csv('no_gdpr_preprocessed.csv', index=False)"
   ]
  }
 ],
 "metadata": {
  "kernelspec": {
   "display_name": "Python 3 (ipykernel)",
   "language": "python",
   "name": "python3"
  },
  "language_info": {
   "codemirror_mode": {
    "name": "ipython",
    "version": 3
   },
   "file_extension": ".py",
   "mimetype": "text/x-python",
   "name": "python",
   "nbconvert_exporter": "python",
   "pygments_lexer": "ipython3",
   "version": "3.9.12"
  }
 },
 "nbformat": 4,
 "nbformat_minor": 5
}
