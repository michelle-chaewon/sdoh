{
 "cells": [
  {
   "cell_type": "code",
   "execution_count": 24,
   "metadata": {},
   "outputs": [],
   "source": [
    "import time\n",
    "import requests\n",
    "import json\n",
    "\n",
    "# To set your environment variables in your terminal run the following line:\n",
    "# export 'BEARER_TOKEN'='<your_bearer_token>'\n",
    "bearer_token = \"AAAAAAAAAAAAAAAAAAAAAB7XNQEAAAAAdn4Eo9LgdtM7O7e2pAUzFE%2Bkojc%3D64TFz0ir7SzjvyCrQOrzW12Urt7rIdPkZKFFcRDDByfdxHcC5X\"\n",
    "\n",
    "search_url = \"https://api.twitter.com/2/tweets/search/all\"\n",
    "\n",
    "def bearer_oauth(r):\n",
    "    \"\"\"\n",
    "    Method required by bearer token authentication.\n",
    "    \"\"\"\n",
    "\n",
    "    r.headers[\"Authorization\"] = f\"Bearer {bearer_token}\"\n",
    "    r.headers[\"User-Agent\"] = \"v2FullArchiveSearchPython\"\n",
    "    return r\n",
    "\n",
    "\n",
    "def connect_to_endpoint(url, params):\n",
    "    response = requests.request(\"GET\", search_url, auth=bearer_oauth, params=params)\n",
    "    print(response.status_code)\n",
    "\n",
    "    if response.status_code == 429:\n",
    "        time.sleep(900)\n",
    "    \n",
    "    if response.status_code != 200:\n",
    "        raise Exception(response.status_code, response.text)\n",
    "        \n",
    "    return response.json()"
   ]
  },
  {
   "cell_type": "code",
   "execution_count": 31,
   "metadata": {},
   "outputs": [],
   "source": [
    "data = []"
   ]
  },
  {
   "cell_type": "code",
   "execution_count": 32,
   "metadata": {},
   "outputs": [],
   "source": [
    "next_token = None"
   ]
  },
  {
   "cell_type": "code",
   "execution_count": 39,
   "metadata": {
    "scrolled": true
   },
   "outputs": [],
   "source": [
    "while True:\n",
    "    \n",
    "    query_params = {'query': '((breast cancer) OR (breast scan) OR (breast exam) OR (mammogram) OR (mammography) OR (breast x-ray) OR (breast xray) OR (clinical breast exam) OR (breast MRI) OR (breast imaging) OR (breast scan) OR (breast screening)) -is:nullcast lang:en -is:verified','tweet.fields': 'text,author_id,created_at,public_metrics,conversation_id,referenced_tweets,in_reply_to_user_id', 'start_time': '2018-01-01T00:00:01Z', 'end_time': '2018-01-02T00:00:01Z', 'max_results': 10, 'next_token': next_token}\n",
    "    json_response = connect_to_endpoint(search_url, query_params)\n",
    "    data.append(json_response)\n",
    "    \n",
    "    try:\n",
    "        next_token = json_response['meta']['next_token']\n",
    "        time.sleep(1)\n",
    "        print(next_token)\n",
    "\n",
    "    except KeyError:\n",
    "        break"
   ]
  },
  {
   "cell_type": "code",
   "execution_count": null,
   "metadata": {},
   "outputs": [],
   "source": []
  }
 ],
 "metadata": {
  "kernelspec": {
   "display_name": "Python 3 (ipykernel)",
   "language": "python",
   "name": "python3"
  },
  "language_info": {
   "codemirror_mode": {
    "name": "ipython",
    "version": 3
   },
   "file_extension": ".py",
   "mimetype": "text/x-python",
   "name": "python",
   "nbconvert_exporter": "python",
   "pygments_lexer": "ipython3",
   "version": "3.9.12"
  }
 },
 "nbformat": 4,
 "nbformat_minor": 4
}
