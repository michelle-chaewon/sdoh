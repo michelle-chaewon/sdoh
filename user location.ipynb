{
 "cells": [
  {
   "cell_type": "code",
   "execution_count": 102,
   "id": "0034d847",
   "metadata": {},
   "outputs": [],
   "source": [
    "import pandas as pd"
   ]
  },
  {
   "cell_type": "code",
   "execution_count": 2,
   "id": "7dcce196",
   "metadata": {},
   "outputs": [],
   "source": [
    "df = pd.read_csv('tweet_full_combined_no_dup.csv')"
   ]
  },
  {
   "cell_type": "code",
   "execution_count": 3,
   "id": "c4869389",
   "metadata": {},
   "outputs": [],
   "source": [
    "df_no_null = df[~(df.location.isnull())]"
   ]
  },
  {
   "cell_type": "code",
   "execution_count": 5,
   "id": "5ce1c016",
   "metadata": {},
   "outputs": [],
   "source": [
    "location_needed = list(set(df_no_null.author_id))"
   ]
  },
  {
   "cell_type": "code",
   "execution_count": 6,
   "id": "ea249f2f",
   "metadata": {},
   "outputs": [],
   "source": [
    "# assign the values accordingly\n",
    "consumer_key = \"\"\n",
    "consumer_secret = \"\"\n",
    "access_token = \"\"\n",
    "access_token_secret = \"\"\n",
    "\n",
    "# authorization of consumer key and consumer secret\n",
    "auth = tweepy.OAuthHandler(consumer_key, consumer_secret)\n",
    "\n",
    "# set access to user's access key and access secret \n",
    "auth.set_access_token(access_token, access_token_secret)\n",
    "\n",
    "# calling the api \n",
    "api = tweepy.API(auth, wait_on_rate_limit=True, wait_on_rate_limit_notify=True)"
   ]
  },
  {
   "cell_type": "code",
   "execution_count": 8,
   "id": "1a7f3a54",
   "metadata": {},
   "outputs": [],
   "source": [
    "dict_location = {}"
   ]
  },
  {
   "cell_type": "code",
   "execution_count": 52,
   "id": "7a5f3f6e",
   "metadata": {},
   "outputs": [
    {
     "name": "stderr",
     "output_type": "stream",
     "text": [
      "Rate limit reached. Sleeping for: 357\n"
     ]
    }
   ],
   "source": [
    "for id1 in location_needed:\n",
    "    try:\n",
    "        user = api.get_user(id1)\n",
    "        dict_location.update({id1: user.status.geo})\n",
    "    except:\n",
    "        try:\n",
    "            dict_location.update({id1: user.location})\n",
    "        except:\n",
    "            continue"
   ]
  },
  {
   "cell_type": "code",
   "execution_count": 56,
   "id": "5dc21fe7",
   "metadata": {},
   "outputs": [
    {
     "name": "stderr",
     "output_type": "stream",
     "text": [
      "C:\\Users\\chaewon7\\AppData\\Local\\Temp\\ipykernel_6684\\426542110.py:1: SettingWithCopyWarning: \n",
      "A value is trying to be set on a copy of a slice from a DataFrame.\n",
      "Try using .loc[row_indexer,col_indexer] = value instead\n",
      "\n",
      "See the caveats in the documentation: https://pandas.pydata.org/pandas-docs/stable/user_guide/indexing.html#returning-a-view-versus-a-copy\n",
      "  df_no_null_spaces_only['location'] = df_no_null_spaces_only['author_id'].map(dict_location)\n"
     ]
    }
   ],
   "source": [
    "df_no_null['location'] = df_no_null['author_id'].map(dict_location)"
   ]
  },
  {
   "cell_type": "code",
   "execution_count": 184,
   "id": "71064511",
   "metadata": {},
   "outputs": [],
   "source": [
    "#resolve coordinates_point to exact address\n",
    "from geopy.geocoders import GoogleV3"
   ]
  },
  {
   "cell_type": "code",
   "execution_count": 223,
   "id": "e72e07ae",
   "metadata": {},
   "outputs": [],
   "source": [
    "geolocator = GoogleV3(api_key='')"
   ]
  },
  {
   "cell_type": "code",
   "execution_count": 216,
   "id": "fab43c9c",
   "metadata": {},
   "outputs": [],
   "source": [
    "df_with_coor = df[~(df.coordinates_point.isnull())]\n",
    "df_no_coor = df[(df.coordinates_point.isnull())]"
   ]
  },
  {
   "cell_type": "code",
   "execution_count": 217,
   "id": "38949c55",
   "metadata": {},
   "outputs": [],
   "source": [
    "df_with_coor_sep = pd.DataFrame(df_with_coor['coordinates_point'].to_list(), columns=['longitude','latitude'])"
   ]
  },
  {
   "cell_type": "code",
   "execution_count": 1,
   "id": "e3ab9ff4",
   "metadata": {},
   "outputs": [],
   "source": [
    "df_with_coor['longitude'] = df_with_coor_sep['longitude'].to_list()\n",
    "df_with_coor['latitude'] = df_with_coor_sep['latitude'].to_list()"
   ]
  },
  {
   "cell_type": "code",
   "execution_count": 2,
   "id": "76985db2",
   "metadata": {},
   "outputs": [],
   "source": [
    "#latitude, longitude\n",
    "df_with_coor.longitude = df_with_coor.longitude.astype(str)\n",
    "df_with_coor.latitude = df_with_coor.latitude.astype(str)"
   ]
  },
  {
   "cell_type": "code",
   "execution_count": 3,
   "id": "6639cebf",
   "metadata": {},
   "outputs": [],
   "source": [
    "df_with_coor['lat_long'] = df_with_coor['latitude'] + ', ' + df_with_coor['longitude']"
   ]
  },
  {
   "cell_type": "code",
   "execution_count": 246,
   "id": "0857065d",
   "metadata": {},
   "outputs": [],
   "source": [
    "df_with_coor = df_with_coor.reset_index(drop=True)"
   ]
  },
  {
   "cell_type": "code",
   "execution_count": 347,
   "id": "522abe40",
   "metadata": {},
   "outputs": [],
   "source": [
    "df_with_coor['address'] = df_with_coor['author_id'].map(reverse_geocoding)"
   ]
  },
  {
   "cell_type": "code",
   "execution_count": 423,
   "id": "7a797dc0",
   "metadata": {},
   "outputs": [],
   "source": [
    "df_combined = pd.concat([df_with_coor, df_no_coor])"
   ]
  },
  {
   "cell_type": "code",
   "execution_count": 424,
   "id": "39899fce",
   "metadata": {},
   "outputs": [],
   "source": [
    "#exclude GDPR using coordinates"
   ]
  },
  {
   "cell_type": "code",
   "execution_count": 426,
   "id": "7866a432",
   "metadata": {},
   "outputs": [],
   "source": [
    "df_combined.location = df_combined.location.str.lower()\n",
    "df_combined.address = df_combined.address.str.lower()"
   ]
  },
  {
   "cell_type": "code",
   "execution_count": 429,
   "id": "4f874846",
   "metadata": {},
   "outputs": [],
   "source": [
    "eu = ['austria', 'belgium', 'bulgaria', 'croatia', 'cyprus', 'republic of cyprus', 'czech', 'czech republic', 'denmark', \n",
    "           'estonia', 'finland', 'france', 'germany', 'greece', 'hungary', 'ireland', 'italy', 'latvia', 'lithuania', \n",
    "           'luxembourg', 'malta', 'netherlands', 'poland', 'portugal', 'romania', 'slovakia', 'slovenia', 'spain', 'sweden', \n",
    "           'united kingdom', 'england', 'great britain']"
   ]
  },
  {
   "cell_type": "code",
   "execution_count": 430,
   "id": "eef4f8f1",
   "metadata": {},
   "outputs": [],
   "source": [
    "#no gdpr data\n",
    "df_combined_no_eu = df_combined[~(df_combined.address.str.contains('|'.join(eu), na=False)) & ~(df_combined_no_eu.location.str.contains('|'.join(eu), na=False))]"
   ]
  },
  {
   "cell_type": "code",
   "execution_count": null,
   "id": "530d1ef5",
   "metadata": {},
   "outputs": [],
   "source": [
    "df_combined_no_eu.to_csv('no_gdpr.csv', index=False)"
   ]
  }
 ],
 "metadata": {
  "kernelspec": {
   "display_name": "Python 3 (ipykernel)",
   "language": "python",
   "name": "python3"
  },
  "language_info": {
   "codemirror_mode": {
    "name": "ipython",
    "version": 3
   },
   "file_extension": ".py",
   "mimetype": "text/x-python",
   "name": "python",
   "nbconvert_exporter": "python",
   "pygments_lexer": "ipython3",
   "version": "3.9.12"
  }
 },
 "nbformat": 4,
 "nbformat_minor": 5
}
