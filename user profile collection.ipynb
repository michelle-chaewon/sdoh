{
 "cells": [
  {
   "cell_type": "code",
   "execution_count": 326,
   "id": "1a2c8cc9",
   "metadata": {},
   "outputs": [],
   "source": [
    "import pandas as pd\n",
    "from random import sample\n",
    "import tweepy\n",
    "import pickle"
   ]
  },
  {
   "cell_type": "code",
   "execution_count": 561,
   "id": "fb4e7fc3",
   "metadata": {},
   "outputs": [],
   "source": [
    "df_anno = pd.read_csv(r'anno_final.csv')\n",
    "df_hbm_only = pd.read_csv('hbm_only.csv')"
   ]
  },
  {
   "cell_type": "code",
   "execution_count": 3,
   "id": "fd14e96b",
   "metadata": {},
   "outputs": [],
   "source": [
    "df_anno_hbm_only = df_anno[df_anno.HBM_related == 1]"
   ]
  },
  {
   "cell_type": "code",
   "execution_count": 4,
   "id": "979b3e3d",
   "metadata": {},
   "outputs": [],
   "source": [
    "df_hbm_only_combined = pd.concat([df_anno_hbm_only, df_hbm_only])"
   ]
  },
  {
   "cell_type": "code",
   "execution_count": 5,
   "id": "cd7d1be5",
   "metadata": {},
   "outputs": [],
   "source": [
    "df_sdoh = pd.read_csv('us_only.csv')"
   ]
  },
  {
   "cell_type": "code",
   "execution_count": 6,
   "id": "67844b1d",
   "metadata": {},
   "outputs": [],
   "source": [
    "df_hbm_us_only = df_hbm_only_combined[df_hbm_only_combined.tweet_id.isin(df_sdoh.tweet_id)]"
   ]
  },
  {
   "cell_type": "code",
   "execution_count": 10,
   "id": "a5af1c98",
   "metadata": {},
   "outputs": [],
   "source": [
    "data_needed = list(set([int(x) for x in df_hbm_us_only[~(df_hbm_us_only.author_id.isin(list(set(data_combined.keys()))))]['author_id']]))"
   ]
  },
  {
   "cell_type": "code",
   "execution_count": 12,
   "id": "f7a7136c",
   "metadata": {},
   "outputs": [],
   "source": [
    "consumer_key = \"\"\n",
    "consumer_secret = \"\"\n",
    "access_token = \"\"\n",
    "access_token_secret = \"\""
   ]
  },
  {
   "cell_type": "code",
   "execution_count": 13,
   "id": "8908ac38",
   "metadata": {},
   "outputs": [],
   "source": [
    "# authorization of consumer key and consumer secret\n",
    "auth = tweepy.OAuthHandler(consumer_key, consumer_secret)\n",
    " \n",
    "# set access to user's access key and access secret\n",
    "auth.set_access_token(access_token, access_token_secret)\n",
    " \n",
    "# calling the api\n",
    "api = tweepy.API(auth)"
   ]
  },
  {
   "cell_type": "code",
   "execution_count": 14,
   "id": "2eaa1f0e",
   "metadata": {},
   "outputs": [],
   "source": [
    "user_info = {}"
   ]
  },
  {
   "cell_type": "code",
   "execution_count": 15,
   "id": "b967a5d8",
   "metadata": {},
   "outputs": [],
   "source": [
    "for x in data_needed:\n",
    "    try:\n",
    "        user = api.get_user(x)\n",
    "        user_info.update({x: user})\n",
    "    except:\n",
    "        user_info.update({x: \"not_found\"})"
   ]
  },
  {
   "cell_type": "code",
   "execution_count": 562,
   "id": "9f5a635e",
   "metadata": {},
   "outputs": [],
   "source": [
    "df_hbm_us_only['user_profile'] = df_hbm_us_only['author_id'].map(user_info)"
   ]
  },
  {
   "cell_type": "code",
   "execution_count": 19,
   "id": "acda5cca",
   "metadata": {},
   "outputs": [],
   "source": [
    "#have the user data individually"
   ]
  },
  {
   "cell_type": "code",
   "execution_count": 20,
   "id": "326e0b19",
   "metadata": {},
   "outputs": [],
   "source": [
    "user_data_found = df_hbm_us_only[df_hbm_us_only.user_profile != 'not_found']"
   ]
  },
  {
   "cell_type": "code",
   "execution_count": 21,
   "id": "820011c9",
   "metadata": {},
   "outputs": [
    {
     "name": "stderr",
     "output_type": "stream",
     "text": [
      "C:\\Users\\chaewon7\\AppData\\Local\\Temp\\ipykernel_12992\\895509049.py:1: SettingWithCopyWarning: \n",
      "A value is trying to be set on a copy of a slice from a DataFrame.\n",
      "Try using .loc[row_indexer,col_indexer] = value instead\n",
      "\n",
      "See the caveats in the documentation: https://pandas.pydata.org/pandas-docs/stable/user_guide/indexing.html#returning-a-view-versus-a-copy\n",
      "  user_data_found['user_profile_data'] = user_data_found.user_profile.apply(lambda x: x._json)\n"
     ]
    }
   ],
   "source": [
    "user_data_found['user_profile_data'] = user_data_found.user_profile.apply(lambda x: x._json)"
   ]
  },
  {
   "cell_type": "code",
   "execution_count": 22,
   "id": "57f52049",
   "metadata": {},
   "outputs": [],
   "source": [
    "user_data_found_list = []"
   ]
  },
  {
   "cell_type": "code",
   "execution_count": 23,
   "id": "39d4aade",
   "metadata": {},
   "outputs": [],
   "source": [
    "for x in range(0, len(user_data_found)):\n",
    "    user_data_found_list.append(user_data_found.iloc[x]['user_profile_data'])"
   ]
  },
  {
   "cell_type": "code",
   "execution_count": 24,
   "id": "0b54f54a",
   "metadata": {},
   "outputs": [],
   "source": [
    "df_user_data_found = pd.DataFrame(user_data_found_list)"
   ]
  },
  {
   "cell_type": "code",
   "execution_count": 25,
   "id": "0670f1ac",
   "metadata": {},
   "outputs": [],
   "source": [
    "df_user_data_found.to_csv('user_profile_full.csv', index=False)"
   ]
  },
  {
   "cell_type": "code",
   "execution_count": 46,
   "id": "5302c0d2",
   "metadata": {},
   "outputs": [],
   "source": [
    "# address_concat"
   ]
  },
  {
   "cell_type": "code",
   "execution_count": 73,
   "id": "d66ccd56",
   "metadata": {},
   "outputs": [],
   "source": [
    "location_dict = dict(zip(df_hbm_us_only.author_id, df_hbm_us_only.location))\n",
    "address_dict = dict(zip(df_hbm_us_only.author_id, df_hbm_us_only.address_concat))"
   ]
  },
  {
   "cell_type": "code",
   "execution_count": 74,
   "id": "eaa35134",
   "metadata": {},
   "outputs": [],
   "source": [
    "df_user_data_found['location_from_data'] = df_user_data_found['id'].map(location_dict)\n",
    "df_user_data_found['geo_from_data'] = df_user_data_found['id'].map(address_dict)"
   ]
  },
  {
   "cell_type": "code",
   "execution_count": 77,
   "id": "24256ce9",
   "metadata": {},
   "outputs": [],
   "source": [
    "df_user_data_found = df_user_data_found[['id', 'id_str', 'name', 'screen_name', 'location', 'location_from_data',\n",
    "       'geo_from_data', 'profile_location', 'description', 'url', 'entities', 'protected', 'followers_count',\n",
    "       'friends_count', 'listed_count', 'created_at', 'favourites_count',\n",
    "       'utc_offset', 'time_zone', 'geo_enabled', 'verified', 'statuses_count',\n",
    "       'lang', 'status', 'contributors_enabled', 'is_translator',\n",
    "       'is_translation_enabled', 'profile_background_color',\n",
    "       'profile_background_image_url', 'profile_background_image_url_https',\n",
    "       'profile_background_tile', 'profile_image_url',\n",
    "       'profile_image_url_https', 'profile_link_color',\n",
    "       'profile_sidebar_border_color', 'profile_sidebar_fill_color',\n",
    "       'profile_text_color', 'profile_use_background_image',\n",
    "       'has_extended_profile', 'default_profile', 'default_profile_image',\n",
    "       'following', 'follow_request_sent', 'notifications', 'translator_type',\n",
    "       'withheld_in_countries', 'profile_banner_url']]"
   ]
  },
  {
   "cell_type": "code",
   "execution_count": 79,
   "id": "acbe9836",
   "metadata": {},
   "outputs": [
    {
     "data": {
      "text/html": [
       "<div>\n",
       "<style scoped>\n",
       "    .dataframe tbody tr th:only-of-type {\n",
       "        vertical-align: middle;\n",
       "    }\n",
       "\n",
       "    .dataframe tbody tr th {\n",
       "        vertical-align: top;\n",
       "    }\n",
       "\n",
       "    .dataframe thead th {\n",
       "        text-align: right;\n",
       "    }\n",
       "</style>\n",
       "<table border=\"1\" class=\"dataframe\">\n",
       "  <thead>\n",
       "    <tr style=\"text-align: right;\">\n",
       "      <th></th>\n",
       "      <th>id</th>\n",
       "      <th>id_str</th>\n",
       "      <th>name</th>\n",
       "      <th>screen_name</th>\n",
       "      <th>location</th>\n",
       "      <th>location_from_data</th>\n",
       "      <th>geo_from_data</th>\n",
       "      <th>profile_location</th>\n",
       "      <th>description</th>\n",
       "      <th>url</th>\n",
       "      <th>...</th>\n",
       "      <th>profile_use_background_image</th>\n",
       "      <th>has_extended_profile</th>\n",
       "      <th>default_profile</th>\n",
       "      <th>default_profile_image</th>\n",
       "      <th>following</th>\n",
       "      <th>follow_request_sent</th>\n",
       "      <th>notifications</th>\n",
       "      <th>translator_type</th>\n",
       "      <th>withheld_in_countries</th>\n",
       "      <th>profile_banner_url</th>\n",
       "    </tr>\n",
       "  </thead>\n",
       "  <tbody>\n",
       "  </tbody>\n",
       "</table>\n",
       "<p>0 rows × 47 columns</p>\n",
       "</div>"
      ],
      "text/plain": [
       "Empty DataFrame\n",
       "Columns: [id, id_str, name, screen_name, location, location_from_data, geo_from_data, profile_location, description, url, entities, protected, followers_count, friends_count, listed_count, created_at, favourites_count, utc_offset, time_zone, geo_enabled, verified, statuses_count, lang, status, contributors_enabled, is_translator, is_translation_enabled, profile_background_color, profile_background_image_url, profile_background_image_url_https, profile_background_tile, profile_image_url, profile_image_url_https, profile_link_color, profile_sidebar_border_color, profile_sidebar_fill_color, profile_text_color, profile_use_background_image, has_extended_profile, default_profile, default_profile_image, following, follow_request_sent, notifications, translator_type, withheld_in_countries, profile_banner_url]\n",
       "Index: []\n",
       "\n",
       "[0 rows x 47 columns]"
      ]
     },
     "execution_count": 79,
     "metadata": {},
     "output_type": "execute_result"
    }
   ],
   "source": [
    "df_user_data_found[(df_user_data_found.location == '') & (df_user_data_found.location_from_data == '') & (df_user_data_found.geo_from_data.isnull())]"
   ]
  },
  {
   "cell_type": "code",
   "execution_count": 288,
   "id": "4519dfc4",
   "metadata": {},
   "outputs": [],
   "source": [
    "df_user_data_found_no_dup = df_user_data_found[~(df_user_data_found.duplicated(['id_str']))]"
   ]
  },
  {
   "cell_type": "code",
   "execution_count": 289,
   "id": "463eea8c",
   "metadata": {},
   "outputs": [],
   "source": [
    "df_user_data_found_no_dup.to_csv('user_profile_full.csv', index=False)"
   ]
  },
  {
   "cell_type": "code",
   "execution_count": null,
   "id": "2e95f06a",
   "metadata": {},
   "outputs": [],
   "source": []
  },
  {
   "cell_type": "code",
   "execution_count": null,
   "id": "829e5080",
   "metadata": {},
   "outputs": [],
   "source": []
  }
 ],
 "metadata": {
  "kernelspec": {
   "display_name": "Python 3 (ipykernel)",
   "language": "python",
   "name": "python3"
  },
  "language_info": {
   "codemirror_mode": {
    "name": "ipython",
    "version": 3
   },
   "file_extension": ".py",
   "mimetype": "text/x-python",
   "name": "python",
   "nbconvert_exporter": "python",
   "pygments_lexer": "ipython3",
   "version": "3.9.12"
  }
 },
 "nbformat": 4,
 "nbformat_minor": 5
}
